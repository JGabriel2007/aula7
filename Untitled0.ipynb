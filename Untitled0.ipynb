{
  "nbformat": 4,
  "nbformat_minor": 0,
  "metadata": {
    "colab": {
      "provenance": [],
      "authorship_tag": "ABX9TyNgvgAa3woVmlCdbMyAHtcd",
      "include_colab_link": true
    },
    "kernelspec": {
      "name": "python3",
      "display_name": "Python 3"
    },
    "language_info": {
      "name": "python"
    }
  },
  "cells": [
    {
      "cell_type": "markdown",
      "metadata": {
        "id": "view-in-github",
        "colab_type": "text"
      },
      "source": [
        "<a href=\"https://colab.research.google.com/github/JGabriel2007/aula7/blob/main/Untitled0.ipynb\" target=\"_parent\"><img src=\"https://colab.research.google.com/assets/colab-badge.svg\" alt=\"Open In Colab\"/></a>"
      ]
    },
    {
      "cell_type": "code",
      "source": [
        "# Formulário para coleta de dados de um projeto de construção/pintura\n",
        "\n",
        "def coletar_dados():\n",
        "    print(\"=== Formulário de Projeto de Paredes ===\\n\")\n",
        "\n",
        "    # a) Dimensões das paredes\n",
        "    largura = float(input(\"Digite a largura da parede (em metros): \"))\n",
        "    altura = float(input(\"Digite a altura da parede (em metros): \"))\n",
        "\n",
        "    # b) Quantidade de janelas\n",
        "    janelas = int(input(\"Digite a quantidade de janelas: \"))\n",
        "\n",
        "    # c) Material das portas\n",
        "    material_porta = input(\"Digite o material das portas (ex: madeira, alumínio, ferro): \")\n",
        "\n",
        "    # d) Nome para assinatura\n",
        "    nome_responsavel = input(\"Digite o nome para assinatura dos documentos: \")\n",
        "\n",
        "    # Mostrar resumo dos dados\n",
        "    print(\"\\n--- Resumo do Projeto ---\")\n",
        "    print(f\"Dimensões da parede: {largura}m (largura) x {altura}m (altura)\")\n",
        "    print(f\"Quantidade de janelas: {janelas}\")\n",
        "    print(f\"Material das portas: {material_porta}\")\n",
        "    print(f\"Nome para assinatura: {nome_responsavel}\")\n",
        "\n",
        "# Executa o formulário\n",
        "coletar_dados()\n"
      ],
      "metadata": {
        "id": "xfCij4r01zdo"
      },
      "execution_count": null,
      "outputs": []
    }
  ]
}